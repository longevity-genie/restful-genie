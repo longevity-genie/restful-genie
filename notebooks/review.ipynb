{
 "cells": [
  {
   "cell_type": "markdown",
   "source": [
    "# Notebook to play with paper reviews"
   ],
   "metadata": {
    "collapsed": false
   },
   "id": "3ee66666fa407c07"
  },
  {
   "cell_type": "code",
   "execution_count": 11,
   "outputs": [
    {
     "name": "stdout",
     "output_type": "stream",
     "text": [
      "[PosixPath('/home/antonkulaga/sources/biotables/biotables'), '/home/antonkulaga/sources/biotables/notebooks/..', PosixPath('/home/antonkulaga/sources/biotables/biotables'), '/home/antonkulaga/sources/biotables/notebooks/..', PosixPath('/home/antonkulaga/sources/biotables/biotables'), '/home/antonkulaga/sources/biotables/notebooks/..', '/home/antonkulaga/.local/share/JetBrains/IntelliJIdea2023.2/python/helpers-pro/jupyter_debug', '/home/antonkulaga/.local/share/JetBrains/IntelliJIdea2023.2/python/helpers/pydev', '/home/antonkulaga/sources/biotables/notebooks', '/home/antonkulaga/sources/biotables', '/home/antonkulaga/micromamba/envs/biotables/lib/python310.zip', '/home/antonkulaga/micromamba/envs/biotables/lib/python3.10', '/home/antonkulaga/micromamba/envs/biotables/lib/python3.10/lib-dynload', '', '/home/antonkulaga/.local/lib/python3.10/site-packages', '/home/antonkulaga/micromamba/envs/biotables/lib/python3.10/site-packages']\n",
      "The autoreload extension is already loaded. To reload it, use:\n",
      "  %reload_ext autoreload\n"
     ]
    }
   ],
   "source": [
    "import sys\n",
    "from pycomfort.files import *\n",
    "from pathlib import Path\n",
    "import polars as pl\n",
    "from functional import seq\n",
    "import string\n",
    "import pprint\n",
    "import time\n",
    "pp = pprint.PrettyPrinter(indent=4)\n",
    "\n",
    "local = (Path(\"..\") / \"biotables\").resolve()\n",
    "if local.exists():\n",
    "    sys.path.insert(0, Path(\"..\").absolute().as_posix())\n",
    "    sys.path.insert(0, local)\n",
    "    print(sys.path)\n",
    "    %load_ext autoreload\n",
    "    %autoreload 2"
   ],
   "metadata": {
    "collapsed": false,
    "ExecuteTime": {
     "end_time": "2023-10-23T21:21:12.029997248Z",
     "start_time": "2023-10-23T21:21:11.946054175Z"
    }
   },
   "id": "7ab763fb256ec91c"
  },
  {
   "cell_type": "markdown",
   "source": [
    "## Open the spreadsheets"
   ],
   "metadata": {
    "collapsed": false
   },
   "id": "34d56c6fc8950d8e"
  },
  {
   "cell_type": "code",
   "execution_count": 12,
   "outputs": [
    {
     "name": "stderr",
     "output_type": "stream",
     "text": [
      "/tmp/ipykernel_155142/1022393964.py:2: DeprecationWarning: [Deprecated][in version 6.0.0]: client_factory will be replaced by gspread.http_client types\n",
      "  table: BioTable = BioTable(\"https://docs.google.com/spreadsheets/d/1VZvyYw78uTWf95xMr4z2UTBNN71KAUO6mkwzoAyb03A\")\n"
     ]
    }
   ],
   "source": [
    "from biotables.biotable import BioTable\n",
    "table: BioTable = BioTable(\"https://docs.google.com/spreadsheets/d/1VZvyYw78uTWf95xMr4z2UTBNN71KAUO6mkwzoAyb03A\")"
   ],
   "metadata": {
    "collapsed": false,
    "ExecuteTime": {
     "end_time": "2023-10-23T21:21:13.248319056Z",
     "start_time": "2023-10-23T21:21:12.316961079Z"
    }
   },
   "id": "aaddbe7d689eaad1"
  },
  {
   "cell_type": "code",
   "execution_count": 46,
   "outputs": [
    {
     "name": "stderr",
     "output_type": "stream",
     "text": [
      "[INFO] | 2023/10/24 00:52:04 | Choose scihub url [0]: https://sci-hub.ru\n",
      "[INFO] | 2023/10/24 00:52:04 | <- Request: scihub_url=https://sci-hub.ru, source=DoiSource[type=doi, id=doi.org/10.7554/eLife.71624], proxies={}\n",
      "[INFO] | 2023/10/24 00:52:04 | -> Response: status_code=200, content_length=5828\n",
      "[WARNING] | 2023/10/24 00:52:04 | Error occurs, task status: extracting_failed, error: No pdf tag was found in the given content with the selector: #pdf\n",
      "[INFO] | 2023/10/24 00:52:04 | Choose scihub url [1]: http://sci-hub.st\n",
      "[INFO] | 2023/10/24 00:52:04 | <- Request: scihub_url=http://sci-hub.st, source=DoiSource[type=doi, id=doi.org/10.7554/eLife.71624], proxies={}\n",
      "[INFO] | 2023/10/24 00:52:05 | -> Response: status_code=200, content_length=5828\n",
      "[WARNING] | 2023/10/24 00:52:05 | Error occurs, task status: extracting_failed, error: No pdf tag was found in the given content with the selector: #pdf\n",
      "[INFO] | 2023/10/24 00:52:05 | Choose scihub url [2]: https://sci-hub.se\n",
      "[INFO] | 2023/10/24 00:52:05 | <- Request: scihub_url=https://sci-hub.se, source=DoiSource[type=doi, id=doi.org/10.7554/eLife.71624], proxies={}\n",
      "[INFO] | 2023/10/24 00:52:05 | -> Response: status_code=200, content_length=5828\n",
      "[WARNING] | 2023/10/24 00:52:05 | Error occurs, task status: extracting_failed, error: No pdf tag was found in the given content with the selector: #pdf\n",
      "[INFO] | 2023/10/24 00:52:05 | Choose scihub url [3]: http://sci-hub.ru\n",
      "[INFO] | 2023/10/24 00:52:05 | <- Request: scihub_url=http://sci-hub.ru, source=DoiSource[type=doi, id=doi.org/10.7554/eLife.71624], proxies={}\n",
      "[INFO] | 2023/10/24 00:52:05 | -> Response: status_code=200, content_length=5828\n",
      "[WARNING] | 2023/10/24 00:52:05 | Error occurs, task status: extracting_failed, error: No pdf tag was found in the given content with the selector: #pdf\n",
      "[INFO] | 2023/10/24 00:52:05 | Choose scihub url [4]: http://sci-hub.se\n",
      "[INFO] | 2023/10/24 00:52:05 | <- Request: scihub_url=http://sci-hub.se, source=DoiSource[type=doi, id=doi.org/10.7554/eLife.71624], proxies={}\n",
      "[INFO] | 2023/10/24 00:52:06 | -> Response: status_code=200, content_length=5828\n",
      "[WARNING] | 2023/10/24 00:52:06 | Error occurs, task status: extracting_failed, error: No pdf tag was found in the given content with the selector: #pdf\n",
      "[INFO] | 2023/10/24 00:52:06 | Choose scihub url [5]: https://sci-hub.st\n",
      "[INFO] | 2023/10/24 00:52:06 | <- Request: scihub_url=https://sci-hub.st, source=DoiSource[type=doi, id=doi.org/10.7554/eLife.71624], proxies={}\n",
      "[INFO] | 2023/10/24 00:52:06 | -> Response: status_code=200, content_length=5828\n",
      "[WARNING] | 2023/10/24 00:52:06 | Error occurs, task status: extracting_failed, error: No pdf tag was found in the given content with the selector: #pdf\n",
      "[ERROR] | 2023/10/24 00:52:06 | Failed to download the paper: https://doi.org/10.7554/eLife.71624. Please try again.\n"
     ]
    },
    {
     "data": {
      "text/plain": "Success(_value=('10.7554/eLife.71624', PosixPath('/home/antonkulaga/sources/biotables/data/papers/10.7554/eLife.71624.pdf'), PosixPath('/home/antonkulaga/sources/biotables/data/papers/10.7554/eLife.71624_meta.json')))"
     },
     "execution_count": 46,
     "metadata": {},
     "output_type": "execute_result"
    }
   ],
   "source": [
    "from getpaper.download import *\n",
    "#schihub_doi(\"10.1038/s43587-022-00183-2\", table.papers)\n",
    "try_download(\"10.7554/eLife.71624\", table.papers)"
   ],
   "metadata": {
    "collapsed": false,
    "ExecuteTime": {
     "end_time": "2023-10-23T21:52:06.884655085Z",
     "start_time": "2023-10-23T21:52:02.409270459Z"
    }
   },
   "id": "9f5782a90ef2839b"
  },
  {
   "cell_type": "code",
   "execution_count": 13,
   "outputs": [
    {
     "name": "stdout",
     "output_type": "stream",
     "text": [
      "index is 2\n"
     ]
    },
    {
     "name": "stderr",
     "output_type": "stream",
     "text": [
      "[INFO] | 2023/10/24 00:21:15 | Choose scihub url [0]: https://sci-hub.ru\n",
      "[INFO] | 2023/10/24 00:21:15 | <- Request: scihub_url=https://sci-hub.ru, source=DoiSource[type=doi, id=doi.org/10.1016/j.stemcr.2022.09.009], proxies={}\n",
      "[INFO] | 2023/10/24 00:21:15 | -> Response: status_code=200, content_length=5837\n",
      "[WARNING] | 2023/10/24 00:21:15 | Error occurs, task status: extracting_failed, error: No pdf tag was found in the given content with the selector: #pdf\n",
      "[INFO] | 2023/10/24 00:21:15 | Choose scihub url [1]: http://sci-hub.st\n",
      "[INFO] | 2023/10/24 00:21:15 | <- Request: scihub_url=http://sci-hub.st, source=DoiSource[type=doi, id=doi.org/10.1016/j.stemcr.2022.09.009], proxies={}\n",
      "[INFO] | 2023/10/24 00:21:16 | -> Response: status_code=200, content_length=5837\n",
      "[WARNING] | 2023/10/24 00:21:16 | Error occurs, task status: extracting_failed, error: No pdf tag was found in the given content with the selector: #pdf\n",
      "[INFO] | 2023/10/24 00:21:16 | Choose scihub url [2]: https://sci-hub.se\n",
      "[INFO] | 2023/10/24 00:21:16 | <- Request: scihub_url=https://sci-hub.se, source=DoiSource[type=doi, id=doi.org/10.1016/j.stemcr.2022.09.009], proxies={}\n",
      "[INFO] | 2023/10/24 00:21:16 | -> Response: status_code=200, content_length=5837\n",
      "[WARNING] | 2023/10/24 00:21:16 | Error occurs, task status: extracting_failed, error: No pdf tag was found in the given content with the selector: #pdf\n",
      "[INFO] | 2023/10/24 00:21:16 | Choose scihub url [3]: http://sci-hub.ru\n",
      "[INFO] | 2023/10/24 00:21:16 | <- Request: scihub_url=http://sci-hub.ru, source=DoiSource[type=doi, id=doi.org/10.1016/j.stemcr.2022.09.009], proxies={}\n",
      "[INFO] | 2023/10/24 00:21:17 | -> Response: status_code=200, content_length=5837\n",
      "[WARNING] | 2023/10/24 00:21:17 | Error occurs, task status: extracting_failed, error: No pdf tag was found in the given content with the selector: #pdf\n",
      "[INFO] | 2023/10/24 00:21:17 | Choose scihub url [4]: http://sci-hub.se\n",
      "[INFO] | 2023/10/24 00:21:17 | <- Request: scihub_url=http://sci-hub.se, source=DoiSource[type=doi, id=doi.org/10.1016/j.stemcr.2022.09.009], proxies={}\n",
      "[INFO] | 2023/10/24 00:21:17 | -> Response: status_code=200, content_length=5837\n",
      "[WARNING] | 2023/10/24 00:21:17 | Error occurs, task status: extracting_failed, error: No pdf tag was found in the given content with the selector: #pdf\n",
      "[INFO] | 2023/10/24 00:21:17 | Choose scihub url [5]: https://sci-hub.st\n",
      "[INFO] | 2023/10/24 00:21:17 | <- Request: scihub_url=https://sci-hub.st, source=DoiSource[type=doi, id=doi.org/10.1016/j.stemcr.2022.09.009], proxies={}\n",
      "[INFO] | 2023/10/24 00:21:17 | -> Response: status_code=200, content_length=5837\n",
      "[WARNING] | 2023/10/24 00:21:18 | Error occurs, task status: extracting_failed, error: No pdf tag was found in the given content with the selector: #pdf\n",
      "[ERROR] | 2023/10/24 00:21:18 | Failed to download the paper: https://doi.org/10.1016/j.stemcr.2022.09.009. Please try again.\n"
     ]
    },
    {
     "ename": "TypeError",
     "evalue": "Failure.get_or_else_get() missing 1 required positional argument: 'default'",
     "output_type": "error",
     "traceback": [
      "\u001B[0;31m---------------------------------------------------------------------------\u001B[0m",
      "\u001B[0;31mTypeError\u001B[0m                                 Traceback (most recent call last)",
      "Cell \u001B[0;32mIn[13], line 1\u001B[0m\n\u001B[0;32m----> 1\u001B[0m \u001B[43mtable\u001B[49m\u001B[38;5;241;43m.\u001B[39;49m\u001B[43mdownload_papers\u001B[49m\u001B[43m(\u001B[49m\u001B[43m)\u001B[49m\n",
      "File \u001B[0;32m~/sources/biotables/notebooks/../biotables/biotable.py:51\u001B[0m, in \u001B[0;36mBioTable.download_papers\u001B[0;34m(self, ids_column, ids_start, into)\u001B[0m\n\u001B[1;32m     49\u001B[0m \u001B[38;5;28;01mfor\u001B[39;00m index, doi_id \u001B[38;5;129;01min\u001B[39;00m \u001B[38;5;28menumerate\u001B[39m(doi_ids[ids_start\u001B[38;5;241m-\u001B[39m\u001B[38;5;241m1\u001B[39m:], start\u001B[38;5;241m=\u001B[39mids_start):  \u001B[38;5;66;03m# using start=1 because spreadsheet indexing starts from 1\u001B[39;00m\n\u001B[1;32m     50\u001B[0m     \u001B[38;5;28mprint\u001B[39m(\u001B[38;5;124mf\u001B[39m\u001B[38;5;124m\"\u001B[39m\u001B[38;5;124mindex is \u001B[39m\u001B[38;5;132;01m{\u001B[39;00mindex\u001B[38;5;132;01m}\u001B[39;00m\u001B[38;5;124m\"\u001B[39m)\n\u001B[0;32m---> 51\u001B[0m     paper_details \u001B[38;5;241m=\u001B[39m \u001B[38;5;28;43mself\u001B[39;49m\u001B[38;5;241;43m.\u001B[39;49m\u001B[43mpaper_by_doi\u001B[49m\u001B[43m(\u001B[49m\u001B[43mdoi_id\u001B[49m\u001B[43m)\u001B[49m\n\u001B[1;32m     52\u001B[0m     \u001B[38;5;28mself\u001B[39m\u001B[38;5;241m.\u001B[39mtable\u001B[38;5;241m.\u001B[39mupdate_cell(index, into, paper_details)  \u001B[38;5;66;03m# 2 refers to column B\u001B[39;00m\n\u001B[1;32m     53\u001B[0m logger\u001B[38;5;241m.\u001B[39minfo(\u001B[38;5;124mf\u001B[39m\u001B[38;5;124m\"\u001B[39m\u001B[38;5;124mfinished downloading papers\u001B[39m\u001B[38;5;124m\"\u001B[39m)\n",
      "File \u001B[0;32m~/sources/biotables/notebooks/../biotables/biotable.py:36\u001B[0m, in \u001B[0;36mBioTable.paper_by_doi\u001B[0;34m(self, doi)\u001B[0m\n\u001B[1;32m     32\u001B[0m \u001B[38;5;28;01mdef\u001B[39;00m \u001B[38;5;21mpaper_by_doi\u001B[39m(\u001B[38;5;28mself\u001B[39m, doi: \u001B[38;5;28mstr\u001B[39m):\n\u001B[1;32m     33\u001B[0m     raw_doi \u001B[38;5;241m=\u001B[39m doi\u001B[38;5;241m.\u001B[39mreplace(\u001B[38;5;124m\"\u001B[39m\u001B[38;5;124mhttps://doi.org/\u001B[39m\u001B[38;5;124m\"\u001B[39m, \u001B[38;5;124m\"\u001B[39m\u001B[38;5;124m\"\u001B[39m)\n\u001B[1;32m     34\u001B[0m     result \u001B[38;5;241m=\u001B[39m \u001B[43mtry_download\u001B[49m\u001B[43m(\u001B[49m\u001B[43mraw_doi\u001B[49m\u001B[43m,\u001B[49m\u001B[43m \u001B[49m\u001B[38;5;28;43mself\u001B[39;49m\u001B[38;5;241;43m.\u001B[39;49m\u001B[43mpapers\u001B[49m\u001B[43m,\u001B[49m\u001B[43m \u001B[49m\u001B[38;5;28;43;01mTrue\u001B[39;49;00m\u001B[43m)\u001B[49m\u001B[43m \u001B[49m\u001B[43m\\\u001B[49m\n\u001B[1;32m     35\u001B[0m \u001B[43m        \u001B[49m\u001B[38;5;241;43m.\u001B[39;49m\u001B[43mmap\u001B[49m\u001B[43m(\u001B[49m\u001B[38;5;28;43;01mlambda\u001B[39;49;00m\u001B[43m \u001B[49m\u001B[43mp\u001B[49m\u001B[43m:\u001B[49m\u001B[43m \u001B[49m\u001B[43mparse_paper\u001B[49m\u001B[43m(\u001B[49m\u001B[43mp\u001B[49m\u001B[43m,\u001B[49m\u001B[43m \u001B[49m\u001B[38;5;28;43mself\u001B[39;49m\u001B[38;5;241;43m.\u001B[39;49m\u001B[43mpapers\u001B[49m\u001B[43m)\u001B[49m\u001B[43m)\u001B[49m\u001B[43m \u001B[49m\u001B[43m\\\u001B[49m\n\u001B[0;32m---> 36\u001B[0m \u001B[43m        \u001B[49m\u001B[38;5;241;43m.\u001B[39;49m\u001B[43mget_or_else_get\u001B[49m\u001B[43m(\u001B[49m\u001B[43m)\u001B[49m\n\u001B[1;32m     37\u001B[0m     l \u001B[38;5;241m=\u001B[39m \u001B[38;5;28mlen\u001B[39m(result)\n\u001B[1;32m     38\u001B[0m     \u001B[38;5;28;01mif\u001B[39;00m l \u001B[38;5;241m==\u001B[39m \u001B[38;5;241m0\u001B[39m:\n",
      "\u001B[0;31mTypeError\u001B[0m: Failure.get_or_else_get() missing 1 required positional argument: 'default'"
     ]
    }
   ],
   "source": [
    "table.download_papers()"
   ],
   "metadata": {
    "collapsed": false,
    "ExecuteTime": {
     "end_time": "2023-10-23T21:21:18.043892029Z",
     "start_time": "2023-10-23T21:21:13.250369197Z"
    }
   },
   "id": "5394385f73ac2be9"
  },
  {
   "cell_type": "code",
   "execution_count": null,
   "outputs": [],
   "source": [
    "doi_ids = table_1.col_values(1)\n",
    "\n",
    "from getpaper import download, parse\n",
    "\n",
    "bio = papers.BioTable(locations.papers)\n",
    "\n",
    "# Iterate over the DOI IDs, get the paper details/text, and update the neighboring column (column B in this case)\n",
    "for index, doi_id in enumerate(doi_ids[ids_start-1:], start=ids_start):  # using start=1 because spreadsheet indexing starts from 1\n",
    "    paper_details = bio.from_doi(doi_id)\n",
    "    table_1.update_cell(index, 2, paper_details)  # 2 refers to column B"
   ],
   "metadata": {
    "collapsed": false,
    "ExecuteTime": {
     "start_time": "2023-10-23T21:21:18.040830139Z"
    }
   },
   "id": "7c8c305342c1a814"
  },
  {
   "cell_type": "code",
   "execution_count": null,
   "outputs": [],
   "source": [],
   "metadata": {
    "collapsed": false
   },
   "id": "b305caf03f16f006"
  }
 ],
 "metadata": {
  "kernelspec": {
   "display_name": "Python 3",
   "language": "python",
   "name": "python3"
  },
  "language_info": {
   "codemirror_mode": {
    "name": "ipython",
    "version": 2
   },
   "file_extension": ".py",
   "mimetype": "text/x-python",
   "name": "python",
   "nbconvert_exporter": "python",
   "pygments_lexer": "ipython2",
   "version": "2.7.6"
  }
 },
 "nbformat": 4,
 "nbformat_minor": 5
}
