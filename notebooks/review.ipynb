{
 "cells": [
  {
   "cell_type": "markdown",
   "source": [
    "# Notebook to play with paper reviews"
   ],
   "metadata": {
    "collapsed": false
   },
   "id": "3ee66666fa407c07"
  },
  {
   "cell_type": "code",
   "execution_count": 1,
   "outputs": [
    {
     "name": "stdout",
     "output_type": "stream",
     "text": [
      "[PosixPath('/home/antonkulaga/sources/biotables/biotables'), '/home/antonkulaga/sources/biotables/notebooks/..', '/home/antonkulaga/sources/biotables/notebooks', '/home/antonkulaga/sources/biotables', '/home/antonkulaga/micromamba/envs/biotables/lib/python310.zip', '/home/antonkulaga/micromamba/envs/biotables/lib/python3.10', '/home/antonkulaga/micromamba/envs/biotables/lib/python3.10/lib-dynload', '', '/home/antonkulaga/.local/lib/python3.10/site-packages', '/home/antonkulaga/micromamba/envs/biotables/lib/python3.10/site-packages']\n"
     ]
    }
   ],
   "source": [
    "import sys\n",
    "from pycomfort.files import *\n",
    "from pathlib import Path\n",
    "import polars as pl\n",
    "from functional import seq\n",
    "import string\n",
    "import pprint\n",
    "import time\n",
    "pp = pprint.PrettyPrinter(indent=4)\n",
    "\n",
    "local = (Path(\"..\") / \"biotables\").resolve()\n",
    "if local.exists():\n",
    "    sys.path.insert(0, Path(\"..\").absolute().as_posix())\n",
    "    sys.path.insert(0, local)\n",
    "    print(sys.path)\n",
    "    %load_ext autoreload\n",
    "    %autoreload 2"
   ],
   "metadata": {
    "collapsed": false,
    "ExecuteTime": {
     "end_time": "2023-11-15T21:42:21.046036515Z",
     "start_time": "2023-11-15T21:42:20.971090138Z"
    }
   },
   "id": "7ab763fb256ec91c"
  },
  {
   "cell_type": "code",
   "execution_count": 2,
   "outputs": [
    {
     "data": {
      "text/plain": "PosixPath('/home/antonkulaga/sources/biotables/data/papers')"
     },
     "execution_count": 2,
     "metadata": {},
     "output_type": "execute_result"
    }
   ],
   "source": [
    "base = Path(\"..\").resolve()\n",
    "base = base.parent if \"notebooks\" in base.name else base\n",
    "from biotables.locations import Locations\n",
    "locations = Locations(base)\n",
    "locations.papers\n"
   ],
   "metadata": {
    "collapsed": false,
    "ExecuteTime": {
     "end_time": "2023-11-15T21:42:22.489689359Z",
     "start_time": "2023-11-15T21:42:21.859086197Z"
    }
   },
   "id": "932fb5b3f6cd76d3"
  },
  {
   "cell_type": "code",
   "execution_count": 3,
   "outputs": [
    {
     "data": {
      "text/plain": "[PosixPath('/home/antonkulaga/sources/biotables/data/papers/10.1038/s41586-020-2975-4')]"
     },
     "execution_count": 3,
     "metadata": {},
     "output_type": "execute_result"
    }
   ],
   "source": [
    "from getpaper.parse import download_and_parse, PDFParser\n",
    "\n",
    "doi = \"10.1038/s41586-020-2975-4\"\n",
    "folders = download_and_parse(doi, locations.papers, scihub_on_fail=True, subfolder=True, do_not_reparse=True, parser=PDFParser.py_mu_pdf)\n",
    "folders"
   ],
   "metadata": {
    "collapsed": false,
    "ExecuteTime": {
     "end_time": "2023-11-15T21:42:26.881964810Z",
     "start_time": "2023-11-15T21:42:22.745547872Z"
    }
   },
   "id": "97bf9e3ae60fd221"
  },
  {
   "cell_type": "code",
   "execution_count": 4,
   "outputs": [
    {
     "data": {
      "text/plain": "[PosixPath('/home/antonkulaga/sources/biotables/data/papers/10.1038/s41586-020-2975-4')]"
     },
     "execution_count": 4,
     "metadata": {},
     "output_type": "execute_result"
    }
   ],
   "source": [
    "def ask_paper(paper: AskPaper):\n",
    "    folders: List[Path] = download_and_parse(paper.doi, subfolder=True, do_not_reparse=True)\n",
    "    if len(folders) <1:\n",
    "        loguru.logger.error(f\"nothing was downloaded/parsed for {paper.doi}\")\n",
    "    loguru.logger.info(f\"download folder {paper.doi}\")\n",
    "    return folders"
   ],
   "metadata": {
    "collapsed": false,
    "ExecuteTime": {
     "end_time": "2023-11-15T21:42:26.882321874Z",
     "start_time": "2023-11-15T21:42:26.864765157Z"
    }
   },
   "id": "e4a84064eaf24bb"
  },
  {
   "cell_type": "code",
   "execution_count": 38,
   "outputs": [
    {
     "name": "stderr",
     "output_type": "stream",
     "text": [
      "[INFO] | 2023/11/15 03:32:34 | Choose scihub url [0]: https://sci-hub.ru\n",
      "[INFO] | 2023/11/15 03:32:34 | <- Request: scihub_url=https://sci-hub.ru, source=DoiSource[type=doi, id=doi.org/10.1038/s41586-020-2975-4], proxies={}\n",
      "[INFO] | 2023/11/15 03:32:34 | -> Response: status_code=200, content_length=7035\n",
      "[INFO] | 2023/11/15 03:32:34 | * Extracted information: {'url': 'https://sci-hub.ru/downloads/2020-12-02/1e/10.1038@s41586-020-2975-4.pdf', 'title': 'Reprogramming to recover youthful epigenetic information and restore vision. Nature, 588(7836), 124–129'}\n"
     ]
    },
    {
     "name": "stdout",
     "output_type": "stream",
     "text": [
      " 10% [=====                                             ] 12279808/112223116"
     ]
    },
    {
     "name": "stderr",
     "output_type": "stream",
     "text": [
      "IOPub message rate exceeded.\n",
      "The Jupyter server will temporarily stop sending output\n",
      "to the client in order to avoid crashing it.\n",
      "To change this limit, set the config variable\n",
      "`--ServerApp.iopub_msg_rate_limit`.\n",
      "\n",
      "Current values:\n",
      "ServerApp.iopub_msg_rate_limit=1000.0 (msgs/sec)\n",
      "ServerApp.rate_limit_window=3.0 (secs)\n",
      "\n"
     ]
    },
    {
     "name": "stdout",
     "output_type": "stream",
     "text": [
      " 27% [=============                                     ] 30474240/112223116"
     ]
    },
    {
     "name": "stderr",
     "output_type": "stream",
     "text": [
      "IOPub message rate exceeded.\n",
      "The Jupyter server will temporarily stop sending output\n",
      "to the client in order to avoid crashing it.\n",
      "To change this limit, set the config variable\n",
      "`--ServerApp.iopub_msg_rate_limit`.\n",
      "\n",
      "Current values:\n",
      "ServerApp.iopub_msg_rate_limit=1000.0 (msgs/sec)\n",
      "ServerApp.rate_limit_window=3.0 (secs)\n",
      "\n"
     ]
    },
    {
     "name": "stdout",
     "output_type": "stream",
     "text": [
      " 35% [=================                                 ] 40345600/112223116"
     ]
    },
    {
     "name": "stderr",
     "output_type": "stream",
     "text": [
      "IOPub message rate exceeded.\n",
      "The Jupyter server will temporarily stop sending output\n",
      "to the client in order to avoid crashing it.\n",
      "To change this limit, set the config variable\n",
      "`--ServerApp.iopub_msg_rate_limit`.\n",
      "\n",
      "Current values:\n",
      "ServerApp.iopub_msg_rate_limit=1000.0 (msgs/sec)\n",
      "ServerApp.rate_limit_window=3.0 (secs)\n",
      "\n"
     ]
    },
    {
     "name": "stdout",
     "output_type": "stream",
     "text": [
      " 45% [======================                            ] 51298304/112223116"
     ]
    },
    {
     "name": "stderr",
     "output_type": "stream",
     "text": [
      "IOPub message rate exceeded.\n",
      "The Jupyter server will temporarily stop sending output\n",
      "to the client in order to avoid crashing it.\n",
      "To change this limit, set the config variable\n",
      "`--ServerApp.iopub_msg_rate_limit`.\n",
      "\n",
      "Current values:\n",
      "ServerApp.iopub_msg_rate_limit=1000.0 (msgs/sec)\n",
      "ServerApp.rate_limit_window=3.0 (secs)\n",
      "\n"
     ]
    },
    {
     "name": "stdout",
     "output_type": "stream",
     "text": [
      " 62% [===============================                   ] 70246400/112223116"
     ]
    },
    {
     "name": "stderr",
     "output_type": "stream",
     "text": [
      "IOPub message rate exceeded.\n",
      "The Jupyter server will temporarily stop sending output\n",
      "to the client in order to avoid crashing it.\n",
      "To change this limit, set the config variable\n",
      "`--ServerApp.iopub_msg_rate_limit`.\n",
      "\n",
      "Current values:\n",
      "ServerApp.iopub_msg_rate_limit=1000.0 (msgs/sec)\n",
      "ServerApp.rate_limit_window=3.0 (secs)\n",
      "\n"
     ]
    },
    {
     "name": "stdout",
     "output_type": "stream",
     "text": [
      " 78% [=======================================           ] 88600576/112223116"
     ]
    },
    {
     "name": "stderr",
     "output_type": "stream",
     "text": [
      "IOPub message rate exceeded.\n",
      "The Jupyter server will temporarily stop sending output\n",
      "to the client in order to avoid crashing it.\n",
      "To change this limit, set the config variable\n",
      "`--ServerApp.iopub_msg_rate_limit`.\n",
      "\n",
      "Current values:\n",
      "ServerApp.iopub_msg_rate_limit=1000.0 (msgs/sec)\n",
      "ServerApp.rate_limit_window=3.0 (secs)\n",
      "\n"
     ]
    }
   ],
   "source": [
    "\n",
    "from pydantic import BaseModel\n",
    "from getpaper.download import try_download\n",
    "\n",
    "class AskPaper(BaseModel):\n",
    "    doi: str\n",
    "    prompt: Optional[str] = None\n",
    "\n",
    "\n",
    "def ask_paper(paper: AskPaper):\n",
    "    doi = paper.doi\n",
    "    d: Try[(str, Path, Path)] = try_download(doi, locations.papers, True)\n",
    "    \"\"\"\n",
    "    Success(_value=('10.1038/s41586-020-2975-4', PosixPath('/home/antonkulaga/sources/biotables/data/papers/10.1038/s41586-020-2975-4.pdf'), PosixPath('/home/antonkulaga/sources/biotables/data/papers/10.1038/s41586-020-2975-4_meta.json')))\n",
    "    \"\"\"\n",
    "    return d.map(lambda d: d[1]).get_or_else_get(lambda e: None)\n",
    "   \n",
    "    \n",
    "r = ask_paper(AskPaper(doi = \"10.1038/s41586-020-2975-4\"))"
   ],
   "metadata": {
    "collapsed": false,
    "ExecuteTime": {
     "end_time": "2023-11-15T01:32:48.578434940Z",
     "start_time": "2023-11-15T01:32:30.412475627Z"
    }
   },
   "id": "4652fb65a0ae5d50"
  },
  {
   "cell_type": "code",
   "execution_count": null,
   "outputs": [],
   "source": [
    "from getpaper.parse import download_and_parse_command"
   ],
   "metadata": {
    "collapsed": false
   },
   "id": "ce7d2c626aec25d"
  },
  {
   "cell_type": "code",
   "execution_count": 42,
   "outputs": [
    {
     "data": {
      "text/plain": "[]"
     },
     "execution_count": 42,
     "metadata": {},
     "output_type": "execute_result"
    }
   ],
   "source": [
    "doi = \"10.1038/s41586-020-2975-4\"\n",
    "from getpaper.parse import download_and_parse\n",
    "folders = download_and_parse(doi, locations.papers)\n",
    "folders"
   ],
   "metadata": {
    "collapsed": false,
    "ExecuteTime": {
     "end_time": "2023-11-15T21:22:20.013852063Z",
     "start_time": "2023-11-15T21:22:17.458035070Z"
    }
   },
   "id": "ea9728505ba95241"
  },
  {
   "cell_type": "markdown",
   "source": [
    "## Open the spreadsheets"
   ],
   "metadata": {
    "collapsed": false
   },
   "id": "34d56c6fc8950d8e"
  },
  {
   "cell_type": "code",
   "execution_count": 12,
   "outputs": [
    {
     "name": "stderr",
     "output_type": "stream",
     "text": [
      "/tmp/ipykernel_155142/1022393964.py:2: DeprecationWarning: [Deprecated][in version 6.0.0]: client_factory will be replaced by gspread.http_client types\n",
      "  table: BioTable = BioTable(\"https://docs.google.com/spreadsheets/d/1VZvyYw78uTWf95xMr4z2UTBNN71KAUO6mkwzoAyb03A\")\n"
     ]
    }
   ],
   "source": [
    "from biotables.biotable import BioTable\n",
    "table: BioTable = BioTable(\"https://docs.google.com/spreadsheets/d/1VZvyYw78uTWf95xMr4z2UTBNN71KAUO6mkwzoAyb03A\")"
   ],
   "metadata": {
    "collapsed": false,
    "ExecuteTime": {
     "end_time": "2023-10-23T21:21:13.248319056Z",
     "start_time": "2023-10-23T21:21:12.316961079Z"
    }
   },
   "id": "aaddbe7d689eaad1"
  },
  {
   "cell_type": "code",
   "execution_count": 46,
   "outputs": [
    {
     "name": "stderr",
     "output_type": "stream",
     "text": [
      "[INFO] | 2023/10/24 00:52:04 | Choose scihub url [0]: https://sci-hub.ru\n",
      "[INFO] | 2023/10/24 00:52:04 | <- Request: scihub_url=https://sci-hub.ru, source=DoiSource[type=doi, id=doi.org/10.7554/eLife.71624], proxies={}\n",
      "[INFO] | 2023/10/24 00:52:04 | -> Response: status_code=200, content_length=5828\n",
      "[WARNING] | 2023/10/24 00:52:04 | Error occurs, task status: extracting_failed, error: No pdf tag was found in the given content with the selector: #pdf\n",
      "[INFO] | 2023/10/24 00:52:04 | Choose scihub url [1]: http://sci-hub.st\n",
      "[INFO] | 2023/10/24 00:52:04 | <- Request: scihub_url=http://sci-hub.st, source=DoiSource[type=doi, id=doi.org/10.7554/eLife.71624], proxies={}\n",
      "[INFO] | 2023/10/24 00:52:05 | -> Response: status_code=200, content_length=5828\n",
      "[WARNING] | 2023/10/24 00:52:05 | Error occurs, task status: extracting_failed, error: No pdf tag was found in the given content with the selector: #pdf\n",
      "[INFO] | 2023/10/24 00:52:05 | Choose scihub url [2]: https://sci-hub.se\n",
      "[INFO] | 2023/10/24 00:52:05 | <- Request: scihub_url=https://sci-hub.se, source=DoiSource[type=doi, id=doi.org/10.7554/eLife.71624], proxies={}\n",
      "[INFO] | 2023/10/24 00:52:05 | -> Response: status_code=200, content_length=5828\n",
      "[WARNING] | 2023/10/24 00:52:05 | Error occurs, task status: extracting_failed, error: No pdf tag was found in the given content with the selector: #pdf\n",
      "[INFO] | 2023/10/24 00:52:05 | Choose scihub url [3]: http://sci-hub.ru\n",
      "[INFO] | 2023/10/24 00:52:05 | <- Request: scihub_url=http://sci-hub.ru, source=DoiSource[type=doi, id=doi.org/10.7554/eLife.71624], proxies={}\n",
      "[INFO] | 2023/10/24 00:52:05 | -> Response: status_code=200, content_length=5828\n",
      "[WARNING] | 2023/10/24 00:52:05 | Error occurs, task status: extracting_failed, error: No pdf tag was found in the given content with the selector: #pdf\n",
      "[INFO] | 2023/10/24 00:52:05 | Choose scihub url [4]: http://sci-hub.se\n",
      "[INFO] | 2023/10/24 00:52:05 | <- Request: scihub_url=http://sci-hub.se, source=DoiSource[type=doi, id=doi.org/10.7554/eLife.71624], proxies={}\n",
      "[INFO] | 2023/10/24 00:52:06 | -> Response: status_code=200, content_length=5828\n",
      "[WARNING] | 2023/10/24 00:52:06 | Error occurs, task status: extracting_failed, error: No pdf tag was found in the given content with the selector: #pdf\n",
      "[INFO] | 2023/10/24 00:52:06 | Choose scihub url [5]: https://sci-hub.st\n",
      "[INFO] | 2023/10/24 00:52:06 | <- Request: scihub_url=https://sci-hub.st, source=DoiSource[type=doi, id=doi.org/10.7554/eLife.71624], proxies={}\n",
      "[INFO] | 2023/10/24 00:52:06 | -> Response: status_code=200, content_length=5828\n",
      "[WARNING] | 2023/10/24 00:52:06 | Error occurs, task status: extracting_failed, error: No pdf tag was found in the given content with the selector: #pdf\n",
      "[ERROR] | 2023/10/24 00:52:06 | Failed to download the paper: https://doi.org/10.7554/eLife.71624. Please try again.\n"
     ]
    },
    {
     "data": {
      "text/plain": "Success(_value=('10.7554/eLife.71624', PosixPath('/home/antonkulaga/sources/biotables/data/papers/10.7554/eLife.71624.pdf'), PosixPath('/home/antonkulaga/sources/biotables/data/papers/10.7554/eLife.71624_meta.json')))"
     },
     "execution_count": 46,
     "metadata": {},
     "output_type": "execute_result"
    }
   ],
   "source": [
    "from getpaper.download import *\n",
    "#schihub_doi(\"10.1038/s43587-022-00183-2\", table.papers)\n",
    "try_download(\"10.7554/eLife.71624\", table.papers)"
   ],
   "metadata": {
    "collapsed": false,
    "ExecuteTime": {
     "end_time": "2023-10-23T21:52:06.884655085Z",
     "start_time": "2023-10-23T21:52:02.409270459Z"
    }
   },
   "id": "9f5782a90ef2839b"
  },
  {
   "cell_type": "code",
   "execution_count": 13,
   "outputs": [
    {
     "name": "stdout",
     "output_type": "stream",
     "text": [
      "index is 2\n"
     ]
    },
    {
     "name": "stderr",
     "output_type": "stream",
     "text": [
      "[INFO] | 2023/10/24 00:21:15 | Choose scihub url [0]: https://sci-hub.ru\n",
      "[INFO] | 2023/10/24 00:21:15 | <- Request: scihub_url=https://sci-hub.ru, source=DoiSource[type=doi, id=doi.org/10.1016/j.stemcr.2022.09.009], proxies={}\n",
      "[INFO] | 2023/10/24 00:21:15 | -> Response: status_code=200, content_length=5837\n",
      "[WARNING] | 2023/10/24 00:21:15 | Error occurs, task status: extracting_failed, error: No pdf tag was found in the given content with the selector: #pdf\n",
      "[INFO] | 2023/10/24 00:21:15 | Choose scihub url [1]: http://sci-hub.st\n",
      "[INFO] | 2023/10/24 00:21:15 | <- Request: scihub_url=http://sci-hub.st, source=DoiSource[type=doi, id=doi.org/10.1016/j.stemcr.2022.09.009], proxies={}\n",
      "[INFO] | 2023/10/24 00:21:16 | -> Response: status_code=200, content_length=5837\n",
      "[WARNING] | 2023/10/24 00:21:16 | Error occurs, task status: extracting_failed, error: No pdf tag was found in the given content with the selector: #pdf\n",
      "[INFO] | 2023/10/24 00:21:16 | Choose scihub url [2]: https://sci-hub.se\n",
      "[INFO] | 2023/10/24 00:21:16 | <- Request: scihub_url=https://sci-hub.se, source=DoiSource[type=doi, id=doi.org/10.1016/j.stemcr.2022.09.009], proxies={}\n",
      "[INFO] | 2023/10/24 00:21:16 | -> Response: status_code=200, content_length=5837\n",
      "[WARNING] | 2023/10/24 00:21:16 | Error occurs, task status: extracting_failed, error: No pdf tag was found in the given content with the selector: #pdf\n",
      "[INFO] | 2023/10/24 00:21:16 | Choose scihub url [3]: http://sci-hub.ru\n",
      "[INFO] | 2023/10/24 00:21:16 | <- Request: scihub_url=http://sci-hub.ru, source=DoiSource[type=doi, id=doi.org/10.1016/j.stemcr.2022.09.009], proxies={}\n",
      "[INFO] | 2023/10/24 00:21:17 | -> Response: status_code=200, content_length=5837\n",
      "[WARNING] | 2023/10/24 00:21:17 | Error occurs, task status: extracting_failed, error: No pdf tag was found in the given content with the selector: #pdf\n",
      "[INFO] | 2023/10/24 00:21:17 | Choose scihub url [4]: http://sci-hub.se\n",
      "[INFO] | 2023/10/24 00:21:17 | <- Request: scihub_url=http://sci-hub.se, source=DoiSource[type=doi, id=doi.org/10.1016/j.stemcr.2022.09.009], proxies={}\n",
      "[INFO] | 2023/10/24 00:21:17 | -> Response: status_code=200, content_length=5837\n",
      "[WARNING] | 2023/10/24 00:21:17 | Error occurs, task status: extracting_failed, error: No pdf tag was found in the given content with the selector: #pdf\n",
      "[INFO] | 2023/10/24 00:21:17 | Choose scihub url [5]: https://sci-hub.st\n",
      "[INFO] | 2023/10/24 00:21:17 | <- Request: scihub_url=https://sci-hub.st, source=DoiSource[type=doi, id=doi.org/10.1016/j.stemcr.2022.09.009], proxies={}\n",
      "[INFO] | 2023/10/24 00:21:17 | -> Response: status_code=200, content_length=5837\n",
      "[WARNING] | 2023/10/24 00:21:18 | Error occurs, task status: extracting_failed, error: No pdf tag was found in the given content with the selector: #pdf\n",
      "[ERROR] | 2023/10/24 00:21:18 | Failed to download the paper: https://doi.org/10.1016/j.stemcr.2022.09.009. Please try again.\n"
     ]
    },
    {
     "ename": "TypeError",
     "evalue": "Failure.get_or_else_get() missing 1 required positional argument: 'default'",
     "output_type": "error",
     "traceback": [
      "\u001B[0;31m---------------------------------------------------------------------------\u001B[0m",
      "\u001B[0;31mTypeError\u001B[0m                                 Traceback (most recent call last)",
      "Cell \u001B[0;32mIn[13], line 1\u001B[0m\n\u001B[0;32m----> 1\u001B[0m \u001B[43mtable\u001B[49m\u001B[38;5;241;43m.\u001B[39;49m\u001B[43mdownload_papers\u001B[49m\u001B[43m(\u001B[49m\u001B[43m)\u001B[49m\n",
      "File \u001B[0;32m~/sources/biotables/notebooks/../biotables/biotable.py:51\u001B[0m, in \u001B[0;36mBioTable.download_papers\u001B[0;34m(self, ids_column, ids_start, into)\u001B[0m\n\u001B[1;32m     49\u001B[0m \u001B[38;5;28;01mfor\u001B[39;00m index, doi_id \u001B[38;5;129;01min\u001B[39;00m \u001B[38;5;28menumerate\u001B[39m(doi_ids[ids_start\u001B[38;5;241m-\u001B[39m\u001B[38;5;241m1\u001B[39m:], start\u001B[38;5;241m=\u001B[39mids_start):  \u001B[38;5;66;03m# using start=1 because spreadsheet indexing starts from 1\u001B[39;00m\n\u001B[1;32m     50\u001B[0m     \u001B[38;5;28mprint\u001B[39m(\u001B[38;5;124mf\u001B[39m\u001B[38;5;124m\"\u001B[39m\u001B[38;5;124mindex is \u001B[39m\u001B[38;5;132;01m{\u001B[39;00mindex\u001B[38;5;132;01m}\u001B[39;00m\u001B[38;5;124m\"\u001B[39m)\n\u001B[0;32m---> 51\u001B[0m     paper_details \u001B[38;5;241m=\u001B[39m \u001B[38;5;28;43mself\u001B[39;49m\u001B[38;5;241;43m.\u001B[39;49m\u001B[43mpaper_by_doi\u001B[49m\u001B[43m(\u001B[49m\u001B[43mdoi_id\u001B[49m\u001B[43m)\u001B[49m\n\u001B[1;32m     52\u001B[0m     \u001B[38;5;28mself\u001B[39m\u001B[38;5;241m.\u001B[39mtable\u001B[38;5;241m.\u001B[39mupdate_cell(index, into, paper_details)  \u001B[38;5;66;03m# 2 refers to column B\u001B[39;00m\n\u001B[1;32m     53\u001B[0m logger\u001B[38;5;241m.\u001B[39minfo(\u001B[38;5;124mf\u001B[39m\u001B[38;5;124m\"\u001B[39m\u001B[38;5;124mfinished downloading papers\u001B[39m\u001B[38;5;124m\"\u001B[39m)\n",
      "File \u001B[0;32m~/sources/biotables/notebooks/../biotables/biotable.py:36\u001B[0m, in \u001B[0;36mBioTable.paper_by_doi\u001B[0;34m(self, doi)\u001B[0m\n\u001B[1;32m     32\u001B[0m \u001B[38;5;28;01mdef\u001B[39;00m \u001B[38;5;21mpaper_by_doi\u001B[39m(\u001B[38;5;28mself\u001B[39m, doi: \u001B[38;5;28mstr\u001B[39m):\n\u001B[1;32m     33\u001B[0m     raw_doi \u001B[38;5;241m=\u001B[39m doi\u001B[38;5;241m.\u001B[39mreplace(\u001B[38;5;124m\"\u001B[39m\u001B[38;5;124mhttps://doi.org/\u001B[39m\u001B[38;5;124m\"\u001B[39m, \u001B[38;5;124m\"\u001B[39m\u001B[38;5;124m\"\u001B[39m)\n\u001B[1;32m     34\u001B[0m     result \u001B[38;5;241m=\u001B[39m \u001B[43mtry_download\u001B[49m\u001B[43m(\u001B[49m\u001B[43mraw_doi\u001B[49m\u001B[43m,\u001B[49m\u001B[43m \u001B[49m\u001B[38;5;28;43mself\u001B[39;49m\u001B[38;5;241;43m.\u001B[39;49m\u001B[43mpapers\u001B[49m\u001B[43m,\u001B[49m\u001B[43m \u001B[49m\u001B[38;5;28;43;01mTrue\u001B[39;49;00m\u001B[43m)\u001B[49m\u001B[43m \u001B[49m\u001B[43m\\\u001B[49m\n\u001B[1;32m     35\u001B[0m \u001B[43m        \u001B[49m\u001B[38;5;241;43m.\u001B[39;49m\u001B[43mmap\u001B[49m\u001B[43m(\u001B[49m\u001B[38;5;28;43;01mlambda\u001B[39;49;00m\u001B[43m \u001B[49m\u001B[43mp\u001B[49m\u001B[43m:\u001B[49m\u001B[43m \u001B[49m\u001B[43mparse_paper\u001B[49m\u001B[43m(\u001B[49m\u001B[43mp\u001B[49m\u001B[43m,\u001B[49m\u001B[43m \u001B[49m\u001B[38;5;28;43mself\u001B[39;49m\u001B[38;5;241;43m.\u001B[39;49m\u001B[43mpapers\u001B[49m\u001B[43m)\u001B[49m\u001B[43m)\u001B[49m\u001B[43m \u001B[49m\u001B[43m\\\u001B[49m\n\u001B[0;32m---> 36\u001B[0m \u001B[43m        \u001B[49m\u001B[38;5;241;43m.\u001B[39;49m\u001B[43mget_or_else_get\u001B[49m\u001B[43m(\u001B[49m\u001B[43m)\u001B[49m\n\u001B[1;32m     37\u001B[0m     l \u001B[38;5;241m=\u001B[39m \u001B[38;5;28mlen\u001B[39m(result)\n\u001B[1;32m     38\u001B[0m     \u001B[38;5;28;01mif\u001B[39;00m l \u001B[38;5;241m==\u001B[39m \u001B[38;5;241m0\u001B[39m:\n",
      "\u001B[0;31mTypeError\u001B[0m: Failure.get_or_else_get() missing 1 required positional argument: 'default'"
     ]
    }
   ],
   "source": [
    "table.download_papers()"
   ],
   "metadata": {
    "collapsed": false,
    "ExecuteTime": {
     "end_time": "2023-10-23T21:21:18.043892029Z",
     "start_time": "2023-10-23T21:21:13.250369197Z"
    }
   },
   "id": "5394385f73ac2be9"
  },
  {
   "cell_type": "code",
   "execution_count": null,
   "outputs": [],
   "source": [
    "doi_ids = table_1.col_values(1)\n",
    "\n",
    "from getpaper import download, parse\n",
    "\n",
    "bio = papers.BioTable(locations.papers)\n",
    "\n",
    "# Iterate over the DOI IDs, get the paper details/text, and update the neighboring column (column B in this case)\n",
    "for index, doi_id in enumerate(doi_ids[ids_start-1:], start=ids_start):  # using start=1 because spreadsheet indexing starts from 1\n",
    "    paper_details = bio.from_doi(doi_id)\n",
    "    table_1.update_cell(index, 2, paper_details)  # 2 refers to column B"
   ],
   "metadata": {
    "collapsed": false,
    "ExecuteTime": {
     "start_time": "2023-10-23T21:21:18.040830139Z"
    }
   },
   "id": "7c8c305342c1a814"
  },
  {
   "cell_type": "code",
   "execution_count": null,
   "outputs": [],
   "source": [],
   "metadata": {
    "collapsed": false
   },
   "id": "b305caf03f16f006"
  }
 ],
 "metadata": {
  "kernelspec": {
   "display_name": "Python 3",
   "language": "python",
   "name": "python3"
  },
  "language_info": {
   "codemirror_mode": {
    "name": "ipython",
    "version": 2
   },
   "file_extension": ".py",
   "mimetype": "text/x-python",
   "name": "python",
   "nbconvert_exporter": "python",
   "pygments_lexer": "ipython2",
   "version": "2.7.6"
  }
 },
 "nbformat": 4,
 "nbformat_minor": 5
}
